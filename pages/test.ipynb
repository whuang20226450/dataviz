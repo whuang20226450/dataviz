{
 "cells": [
  {
   "cell_type": "code",
   "execution_count": 3,
   "metadata": {},
   "outputs": [
    {
     "ename": "NameError",
     "evalue": "name '__file__' is not defined",
     "output_type": "error",
     "traceback": [
      "\u001b[1;31m---------------------------------------------------------------------------\u001b[0m",
      "\u001b[1;31mNameError\u001b[0m                                 Traceback (most recent call last)",
      "\u001b[1;32mc:\\Users\\Ashnv\\OneDrive\\Documents\\DataViz Project\\dataviz\\pages\\test.ipynb Cell 1\u001b[0m in \u001b[0;36m<cell line: 17>\u001b[1;34m()\u001b[0m\n\u001b[0;32m     <a href='vscode-notebook-cell:/c%3A/Users/Ashnv/OneDrive/Documents/DataViz%20Project/dataviz/pages/test.ipynb#W0sZmlsZQ%3D%3D?line=12'>13</a>\u001b[0m \u001b[39mfrom\u001b[39;00m \u001b[39mplotly\u001b[39;00m\u001b[39m.\u001b[39;00m\u001b[39msubplots\u001b[39;00m \u001b[39mimport\u001b[39;00m make_subplots\n\u001b[0;32m     <a href='vscode-notebook-cell:/c%3A/Users/Ashnv/OneDrive/Documents/DataViz%20Project/dataviz/pages/test.ipynb#W0sZmlsZQ%3D%3D?line=14'>15</a>\u001b[0m \u001b[39mfrom\u001b[39;00m \u001b[39mdatetime\u001b[39;00m \u001b[39mimport\u001b[39;00m date\n\u001b[1;32m---> <a href='vscode-notebook-cell:/c%3A/Users/Ashnv/OneDrive/Documents/DataViz%20Project/dataviz/pages/test.ipynb#W0sZmlsZQ%3D%3D?line=16'>17</a>\u001b[0m dir_path \u001b[39m=\u001b[39m os\u001b[39m.\u001b[39mpath\u001b[39m.\u001b[39mdirname(os\u001b[39m.\u001b[39mpath\u001b[39m.\u001b[39mrealpath(\u001b[39m__file__\u001b[39;49m))\n\u001b[0;32m     <a href='vscode-notebook-cell:/c%3A/Users/Ashnv/OneDrive/Documents/DataViz%20Project/dataviz/pages/test.ipynb#W0sZmlsZQ%3D%3D?line=17'>18</a>\u001b[0m esm_df \u001b[39m=\u001b[39m pd\u001b[39m.\u001b[39mread_csv(dir_path \u001b[39m+\u001b[39m \u001b[39m\"\u001b[39m\u001b[39m/data\u001b[39m\u001b[39m\"\u001b[39m \u001b[39m+\u001b[39m \u001b[39m\"\u001b[39m\u001b[39m/esm_data.csv\u001b[39m\u001b[39m\"\u001b[39m)\n\u001b[0;32m     <a href='vscode-notebook-cell:/c%3A/Users/Ashnv/OneDrive/Documents/DataViz%20Project/dataviz/pages/test.ipynb#W0sZmlsZQ%3D%3D?line=18'>19</a>\u001b[0m esm_df[\u001b[39m'\u001b[39m\u001b[39mdate\u001b[39m\u001b[39m'\u001b[39m] \u001b[39m=\u001b[39m pd\u001b[39m.\u001b[39mto_datetime(esm_df[\u001b[39m'\u001b[39m\u001b[39mresponseTime_KDT\u001b[39m\u001b[39m'\u001b[39m])\u001b[39m.\u001b[39mdt\u001b[39m.\u001b[39mdate\n",
      "\u001b[1;31mNameError\u001b[0m: name '__file__' is not defined"
     ]
    }
   ],
   "source": [
    "import dash\n",
    "from dash import dcc\n",
    "import dash_bootstrap_components as dbc\n",
    "from dash import html\n",
    "from dash.dependencies import Input, Output, State\n",
    "import plotly.express as px\n",
    "import pandas as pd\n",
    "import os\n",
    "import plotly.figure_factory as ff\n",
    "import plotly.graph_objects as go\n",
    "from dash import callback\n",
    "import numpy as np\n",
    "from plotly.subplots import make_subplots\n",
    "\n",
    "from datetime import date\n",
    "\n",
    "esm_df = pd.read_csv(\"C:\\Users\\Ashnv\\OneDrive\\Documents\\DataViz Project\\dataviz\\pages\\esm_data.csv\")\n",
    "esm_df['date'] = pd.to_datetime(esm_df['responseTime_KDT']).dt.date\n",
    "\n",
    "dir_path = os.path.dirname(os.path.realpath(__file__))\n",
    "ac_df = pd.read_csv(dir_path + \"/activity.csv\")\n",
    "figX = px.bar(ac_df, x='day', y='time')\n",
    "\n",
    "\n",
    "df = pd.read_csv(dir_path + '/data/' + 'processed_data_v2.csv')"
   ]
  },
  {
   "cell_type": "code",
   "execution_count": null,
   "metadata": {},
   "outputs": [],
   "source": []
  }
 ],
 "metadata": {
  "kernelspec": {
   "display_name": "Python 3",
   "language": "python",
   "name": "python3"
  },
  "language_info": {
   "codemirror_mode": {
    "name": "ipython",
    "version": 3
   },
   "file_extension": ".py",
   "mimetype": "text/x-python",
   "name": "python",
   "nbconvert_exporter": "python",
   "pygments_lexer": "ipython3",
   "version": "3.8.10"
  },
  "orig_nbformat": 4
 },
 "nbformat": 4,
 "nbformat_minor": 2
}
